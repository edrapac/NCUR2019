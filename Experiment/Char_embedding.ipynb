{
 "cells": [
  {
   "cell_type": "code",
   "execution_count": 48,
   "metadata": {},
   "outputs": [],
   "source": [
    "import numpy as np\n",
    "from CharVectorizer import CharVectorizer\n",
    "import pandas as pd\n",
    "from pandas import Series, DataFrame\n",
    "\n",
    "import scipy\n",
    "from scipy.stats import spearmanr\n",
    "\n",
    "import matplotlib.pyplot as plt\n",
    "from pylab import rcParams\n",
    "import seaborn as sb\n",
    "\n",
    "import sklearn\n",
    "from sklearn.preprocessing import scale\n",
    "from sklearn.linear_model import LogisticRegression\n",
    "from sklearn import metrics\n",
    "from sklearn import preprocessing\n"
   ]
  },
  {
   "cell_type": "code",
   "execution_count": 49,
   "metadata": {},
   "outputs": [],
   "source": [
    "train_data = 'embed_train.csv'\n",
    "test_data = 'embed_test.csv'\n",
    "train_df = pd.read_csv(train_data)\n",
    "test_df = pd.read_csv(test_data)\n",
    "vectorizer = CharVectorizer(\"abcdefghijklmnopqrstuvwxyz1234567890\")\n",
    "train_df.columns  = ['firstname','lastname','dob','password',\n",
    "                'firstname_similarity','lastname_similarity',\n",
    "                'dob_similarity','aggregate_similarity']\n",
    "test_df.columns  = ['firstname','lastname','dob','password',\n",
    "                'firstname_similarity','lastname_similarity',\n",
    "                'dob_similarity','aggregate_similarity']\n",
    "#train_df.head() #if you want to see the shape of the data, uncomment this line\n"
   ]
  },
  {
   "cell_type": "code",
   "execution_count": 50,
   "metadata": {},
   "outputs": [],
   "source": [
    "#create encoding function that we will use as a lambda \n",
    "#in the next following cells\n",
    "def encode(cell_entry,charvectorizer):\n",
    "    cells = [cell_entry]\n",
    "    maxlen = max(len(cell) for cell in cells)\n",
    "    matrix = charvectorizer.transform(cells,maxlen)\n",
    "    return matrix\n",
    "    \n",
    "    "
   ]
  },
  {
   "cell_type": "code",
   "execution_count": 51,
   "metadata": {},
   "outputs": [
    {
     "name": "stderr",
     "output_type": "stream",
     "text": [
      "C:\\Users\\Axiom\\Anaconda3\\lib\\site-packages\\ipykernel_launcher.py:6: SettingWithCopyWarning: \n",
      "A value is trying to be set on a copy of a slice from a DataFrame\n",
      "\n",
      "See the caveats in the documentation: http://pandas.pydata.org/pandas-docs/stable/indexing.html#indexing-view-versus-copy\n",
      "  \n",
      "C:\\Users\\Axiom\\Anaconda3\\lib\\site-packages\\ipykernel_launcher.py:7: SettingWithCopyWarning: \n",
      "A value is trying to be set on a copy of a slice from a DataFrame\n",
      "\n",
      "See the caveats in the documentation: http://pandas.pydata.org/pandas-docs/stable/indexing.html#indexing-view-versus-copy\n",
      "  import sys\n"
     ]
    }
   ],
   "source": [
    "#test_df['firstname'].values is the accessor for the firstname column\n",
    "#fname_vector = (encode(val,vectorizer) for val in train_df['firstname'].values)\n",
    "#print(train_df['firstname'])\n",
    "#print(list(fname_vector))\n",
    "for i in range(len(train_df['firstname'])): #https://www.dataquest.io/blog/settingwithcopywarning/ \n",
    "    train_df['firstname'][i] = encode(train_df['firstname'][i],vectorizer)\n",
    "    train_df['password'][i] = encode(train_df['password'][i],vectorizer)"
   ]
  },
  {
   "cell_type": "code",
   "execution_count": 52,
   "metadata": {},
   "outputs": [
    {
     "data": {
      "text/html": [
       "<div>\n",
       "<style scoped>\n",
       "    .dataframe tbody tr th:only-of-type {\n",
       "        vertical-align: middle;\n",
       "    }\n",
       "\n",
       "    .dataframe tbody tr th {\n",
       "        vertical-align: top;\n",
       "    }\n",
       "\n",
       "    .dataframe thead th {\n",
       "        text-align: right;\n",
       "    }\n",
       "</style>\n",
       "<table border=\"1\" class=\"dataframe\">\n",
       "  <thead>\n",
       "    <tr style=\"text-align: right;\">\n",
       "      <th></th>\n",
       "      <th>firstname</th>\n",
       "      <th>lastname</th>\n",
       "      <th>dob</th>\n",
       "      <th>password</th>\n",
       "      <th>firstname_similarity</th>\n",
       "      <th>lastname_similarity</th>\n",
       "      <th>dob_similarity</th>\n",
       "      <th>aggregate_similarity</th>\n",
       "    </tr>\n",
       "  </thead>\n",
       "  <tbody>\n",
       "    <tr>\n",
       "      <th>0</th>\n",
       "      <td>[[0, 0, 1, 0, 0, 0, 0, 0, 0, 0, 0, 0, 0, 0, 0,...</td>\n",
       "      <td>McConnell</td>\n",
       "      <td>0000-00-00</td>\n",
       "      <td>[[0, 0, 0, 0, 0, 0, 0, 0, 0, 0, 0, 0, 0, 0, 0,...</td>\n",
       "      <td>18.182</td>\n",
       "      <td>13.333</td>\n",
       "      <td>0.000</td>\n",
       "      <td>10.505</td>\n",
       "    </tr>\n",
       "    <tr>\n",
       "      <th>1</th>\n",
       "      <td>[[0, 0, 0, 0, 0, 0, 0, 0, 0, 1, 0, 0, 0, 0, 0,...</td>\n",
       "      <td>McConnell</td>\n",
       "      <td>0000-00-00</td>\n",
       "      <td>[[0, 0, 0, 0, 0, 0, 0, 0, 0, 0, 0, 0, 0, 0, 0,...</td>\n",
       "      <td>18.182</td>\n",
       "      <td>25.000</td>\n",
       "      <td>0.000</td>\n",
       "      <td>14.394</td>\n",
       "    </tr>\n",
       "    <tr>\n",
       "      <th>2</th>\n",
       "      <td>[[0, 0, 0, 0, 0, 0, 0, 0, 0, 0, 1, 0, 0, 0, 0,...</td>\n",
       "      <td>Kragh</td>\n",
       "      <td>1977-03-02</td>\n",
       "      <td>[[0, 0, 0, 0, 0, 0, 0, 1, 0, 0, 0, 0, 0, 0, 0,...</td>\n",
       "      <td>0.000</td>\n",
       "      <td>18.182</td>\n",
       "      <td>12.500</td>\n",
       "      <td>10.227</td>\n",
       "    </tr>\n",
       "    <tr>\n",
       "      <th>3</th>\n",
       "      <td>[[0, 0, 0, 0, 0, 0, 0, 0, 0, 1, 0, 0, 0, 0, 0,...</td>\n",
       "      <td>Marques</td>\n",
       "      <td>1978-06-13</td>\n",
       "      <td>[[0, 0, 0, 0, 0, 0, 0, 0, 0, 1, 0, 0, 0, 0, 0,...</td>\n",
       "      <td>15.385</td>\n",
       "      <td>12.500</td>\n",
       "      <td>31.579</td>\n",
       "      <td>19.821</td>\n",
       "    </tr>\n",
       "    <tr>\n",
       "      <th>4</th>\n",
       "      <td>[[0, 0, 0, 0, 0, 0, 0, 0, 0, 0, 1, 0, 0, 0, 0,...</td>\n",
       "      <td>KTEST</td>\n",
       "      <td>1969-01-10</td>\n",
       "      <td>[[0, 0, 0, 0, 0, 0, 0, 1, 0, 0, 0, 0, 0, 0, 0,...</td>\n",
       "      <td>0.000</td>\n",
       "      <td>0.000</td>\n",
       "      <td>0.000</td>\n",
       "      <td>0.0</td>\n",
       "    </tr>\n",
       "  </tbody>\n",
       "</table>\n",
       "</div>"
      ],
      "text/plain": [
       "                                           firstname   lastname         dob  \\\n",
       "0  [[0, 0, 1, 0, 0, 0, 0, 0, 0, 0, 0, 0, 0, 0, 0,...  McConnell  0000-00-00   \n",
       "1  [[0, 0, 0, 0, 0, 0, 0, 0, 0, 1, 0, 0, 0, 0, 0,...  McConnell  0000-00-00   \n",
       "2  [[0, 0, 0, 0, 0, 0, 0, 0, 0, 0, 1, 0, 0, 0, 0,...      Kragh  1977-03-02   \n",
       "3  [[0, 0, 0, 0, 0, 0, 0, 0, 0, 1, 0, 0, 0, 0, 0,...    Marques  1978-06-13   \n",
       "4  [[0, 0, 0, 0, 0, 0, 0, 0, 0, 0, 1, 0, 0, 0, 0,...      KTEST  1969-01-10   \n",
       "\n",
       "                                            password  firstname_similarity  \\\n",
       "0  [[0, 0, 0, 0, 0, 0, 0, 0, 0, 0, 0, 0, 0, 0, 0,...                18.182   \n",
       "1  [[0, 0, 0, 0, 0, 0, 0, 0, 0, 0, 0, 0, 0, 0, 0,...                18.182   \n",
       "2  [[0, 0, 0, 0, 0, 0, 0, 1, 0, 0, 0, 0, 0, 0, 0,...                 0.000   \n",
       "3  [[0, 0, 0, 0, 0, 0, 0, 0, 0, 1, 0, 0, 0, 0, 0,...                15.385   \n",
       "4  [[0, 0, 0, 0, 0, 0, 0, 1, 0, 0, 0, 0, 0, 0, 0,...                 0.000   \n",
       "\n",
       "   lastname_similarity  dob_similarity aggregate_similarity  \n",
       "0               13.333           0.000               10.505  \n",
       "1               25.000           0.000               14.394  \n",
       "2               18.182          12.500               10.227  \n",
       "3               12.500          31.579               19.821  \n",
       "4                0.000           0.000                  0.0  "
      ]
     },
     "execution_count": 52,
     "metadata": {},
     "output_type": "execute_result"
    }
   ],
   "source": [
    "train_df.head()"
   ]
  },
  {
   "cell_type": "code",
   "execution_count": 53,
   "metadata": {},
   "outputs": [],
   "source": [
    "embedding_dim = 300\n",
    "embeddings = 1 * np.random.randn(len(train_df['firstname']) + 1, embedding_dim)  # This will be the embedding matrix\n"
   ]
  },
  {
   "cell_type": "code",
   "execution_count": 40,
   "metadata": {},
   "outputs": [
    {
     "data": {
      "text/plain": [
       "array([[ 1.20033324, -0.64156785,  0.93126294, ...,  0.19070643,\n",
       "         1.13666381, -1.26044319],\n",
       "       [ 0.94767988,  0.29992227, -1.50366615, ..., -2.14784647,\n",
       "         1.10746224, -1.25101093],\n",
       "       [-1.13026801,  0.84383956,  0.47273204, ..., -0.64996327,\n",
       "        -0.28787144,  1.27109161],\n",
       "       ...,\n",
       "       [ 0.90779874,  0.69396933, -1.3756296 , ...,  2.08972331,\n",
       "        -1.69864626,  0.7783212 ],\n",
       "       [ 0.23015444,  0.93102627,  0.11274816, ..., -0.20862911,\n",
       "         0.98233363,  1.16686978],\n",
       "       [ 0.40811826,  0.55182607, -0.12249662, ..., -0.58294447,\n",
       "        -0.04344624,  0.82094559]])"
      ]
     },
     "execution_count": 40,
     "metadata": {},
     "output_type": "execute_result"
    }
   ],
   "source": [
    "#embeddings these weights represent a 1 or a zero\n"
   ]
  },
  {
   "cell_type": "code",
   "execution_count": null,
   "metadata": {},
   "outputs": [],
   "source": []
  }
 ],
 "metadata": {
  "kernelspec": {
   "display_name": "Python 3",
   "language": "python",
   "name": "python3"
  },
  "language_info": {
   "codemirror_mode": {
    "name": "ipython",
    "version": 3
   },
   "file_extension": ".py",
   "mimetype": "text/x-python",
   "name": "python",
   "nbconvert_exporter": "python",
   "pygments_lexer": "ipython3",
   "version": "3.7.1"
  }
 },
 "nbformat": 4,
 "nbformat_minor": 2
}
