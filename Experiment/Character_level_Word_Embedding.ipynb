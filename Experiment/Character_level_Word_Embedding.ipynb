{
 "cells": [
  {
   "cell_type": "code",
   "execution_count": 16,
   "metadata": {
    "collapsed": true
   },
   "outputs": [],
   "source": [
    "import string\n",
    "import numpy as np\n",
    "import pandas as pd"
   ]
  },
  {
   "cell_type": "code",
   "execution_count": 17,
   "metadata": {},
   "outputs": [],
   "source": [
    "#proof of conc...\n",
    "samples = ['samuel', 'bryan', 'samantha']\n",
    "character = string.printable #all printable ascii character\n",
    "token_index = dict(zip(range(1, len(character) + 1), character)) #builds index of all tokens in data\n",
    "\n",
    "max_length = 50 #Vectorizes samples, only consider the first max_length values in the sample\n",
    "results = np.zeros((len(samples), max_length, max(token_index.keys())+1))\n",
    "for i, sample in enumerate(samples):\n",
    "    for j, character in enumerate(sample):\n",
    "        index = token_index.get(character)\n",
    "        results[i, j, index] = 1\n"
   ]
  },
  {
   "cell_type": "code",
   "execution_count": 18,
   "metadata": {},
   "outputs": [
    {
     "name": "stdout",
     "output_type": "stream",
     "text": [
      "[[[1. 1. 1. ... 1. 1. 1.]\n",
      "  [1. 1. 1. ... 1. 1. 1.]\n",
      "  [1. 1. 1. ... 1. 1. 1.]\n",
      "  ...\n",
      "  [0. 0. 0. ... 0. 0. 0.]\n",
      "  [0. 0. 0. ... 0. 0. 0.]\n",
      "  [0. 0. 0. ... 0. 0. 0.]]\n",
      "\n",
      " [[1. 1. 1. ... 1. 1. 1.]\n",
      "  [1. 1. 1. ... 1. 1. 1.]\n",
      "  [1. 1. 1. ... 1. 1. 1.]\n",
      "  ...\n",
      "  [0. 0. 0. ... 0. 0. 0.]\n",
      "  [0. 0. 0. ... 0. 0. 0.]\n",
      "  [0. 0. 0. ... 0. 0. 0.]]\n",
      "\n",
      " [[1. 1. 1. ... 1. 1. 1.]\n",
      "  [1. 1. 1. ... 1. 1. 1.]\n",
      "  [1. 1. 1. ... 1. 1. 1.]\n",
      "  ...\n",
      "  [0. 0. 0. ... 0. 0. 0.]\n",
      "  [0. 0. 0. ... 0. 0. 0.]\n",
      "  [0. 0. 0. ... 0. 0. 0.]]]\n",
      "100\n"
     ]
    }
   ],
   "source": [
    "print(results)\n",
    "print(len(token_index))"
   ]
  },
  {
   "cell_type": "code",
   "execution_count": 19,
   "metadata": {},
   "outputs": [],
   "source": [
    "from keras import preprocessing\n",
    "train_data = 'embed_train.csv'\n",
    "test_data = 'embed_train.csv'\n",
    "\n",
    "\n",
    "max_features = 10000\n",
    "max_length = 18\n"
   ]
  },
  {
   "cell_type": "code",
   "execution_count": 28,
   "metadata": {},
   "outputs": [
    {
     "data": {
      "text/html": [
       "<div>\n",
       "<style>\n",
       "    .dataframe thead tr:only-child th {\n",
       "        text-align: right;\n",
       "    }\n",
       "\n",
       "    .dataframe thead th {\n",
       "        text-align: left;\n",
       "    }\n",
       "\n",
       "    .dataframe tbody tr th {\n",
       "        vertical-align: top;\n",
       "    }\n",
       "</style>\n",
       "<table border=\"1\" class=\"dataframe\">\n",
       "  <thead>\n",
       "    <tr style=\"text-align: right;\">\n",
       "      <th></th>\n",
       "      <th>fname</th>\n",
       "      <th>lname</th>\n",
       "      <th>dob</th>\n",
       "      <th>passwd</th>\n",
       "      <th>fnameAgg</th>\n",
       "      <th>lnameAgg</th>\n",
       "      <th>dobAgg</th>\n",
       "      <th>percent_sim</th>\n",
       "    </tr>\n",
       "  </thead>\n",
       "  <tbody>\n",
       "    <tr>\n",
       "      <th>0</th>\n",
       "      <td>Chris</td>\n",
       "      <td>McConnell</td>\n",
       "      <td>0000-00-00</td>\n",
       "      <td>vivmcc</td>\n",
       "      <td>18.182</td>\n",
       "      <td>13.333</td>\n",
       "      <td>0.000</td>\n",
       "      <td>10.505</td>\n",
       "    </tr>\n",
       "    <tr>\n",
       "      <th>1</th>\n",
       "      <td>John</td>\n",
       "      <td>McConnell</td>\n",
       "      <td>0000-00-00</td>\n",
       "      <td>sense12</td>\n",
       "      <td>18.182</td>\n",
       "      <td>25.000</td>\n",
       "      <td>0.000</td>\n",
       "      <td>14.394</td>\n",
       "    </tr>\n",
       "    <tr>\n",
       "      <th>2</th>\n",
       "      <td>Koy</td>\n",
       "      <td>Kragh</td>\n",
       "      <td>1977-03-02</td>\n",
       "      <td>harf42</td>\n",
       "      <td>0.000</td>\n",
       "      <td>18.182</td>\n",
       "      <td>12.500</td>\n",
       "      <td>10.227</td>\n",
       "    </tr>\n",
       "    <tr>\n",
       "      <th>3</th>\n",
       "      <td>João</td>\n",
       "      <td>Marques</td>\n",
       "      <td>1978-06-13</td>\n",
       "      <td>jotaX7820</td>\n",
       "      <td>15.385</td>\n",
       "      <td>12.500</td>\n",
       "      <td>31.579</td>\n",
       "      <td>19.821</td>\n",
       "    </tr>\n",
       "    <tr>\n",
       "      <th>4</th>\n",
       "      <td>KTEST</td>\n",
       "      <td>KTEST</td>\n",
       "      <td>1969-01-10</td>\n",
       "      <td>harf42</td>\n",
       "      <td>0.000</td>\n",
       "      <td>0.000</td>\n",
       "      <td>0.000</td>\n",
       "      <td>0.0</td>\n",
       "    </tr>\n",
       "  </tbody>\n",
       "</table>\n",
       "</div>"
      ],
      "text/plain": [
       "   fname      lname         dob     passwd  fnameAgg  lnameAgg  dobAgg  \\\n",
       "0  Chris  McConnell  0000-00-00     vivmcc    18.182    13.333   0.000   \n",
       "1   John  McConnell  0000-00-00    sense12    18.182    25.000   0.000   \n",
       "2    Koy      Kragh  1977-03-02     harf42     0.000    18.182  12.500   \n",
       "3   João    Marques  1978-06-13  jotaX7820    15.385    12.500  31.579   \n",
       "4  KTEST      KTEST  1969-01-10     harf42     0.000     0.000   0.000   \n",
       "\n",
       "  percent_sim  \n",
       "0      10.505  \n",
       "1      14.394  \n",
       "2      10.227  \n",
       "3      19.821  \n",
       "4         0.0  "
      ]
     },
     "execution_count": 28,
     "metadata": {},
     "output_type": "execute_result"
    }
   ],
   "source": [
    "df = pd.read_csv(train_data)\n",
    "df.columns = ['fname','lname','dob','passwd','fnameAgg','lnameAgg','dobAgg','percent_sim']\n",
    "df.head()"
   ]
  },
  {
   "cell_type": "code",
   "execution_count": 39,
   "metadata": {},
   "outputs": [],
   "source": [
    "sample1 = df['fname']\n",
    "sample2 = df['lname']\n",
    "sample3 = df['dob']\n",
    "y_sample = df['percent_sim']\n",
    "\n",
    "max_length = 50 #Can be any length we choose\n",
    "\n",
    "#this is the function I am using to encode and it returns an array of the encoded letters\n",
    "def encode_function(samples):\n",
    "    results = np.zeros((len(samples), max_length, max(token_index.keys())+1))\n",
    "    for i, sample in enumerate(samples):\n",
    "        for j, character in enumerate(sample):\n",
    "            index = token_index.get(character)\n",
    "            results[i, j, index] = 1\n",
    "    return results"
   ]
  },
  {
   "cell_type": "code",
   "execution_count": 41,
   "metadata": {},
   "outputs": [],
   "source": [
    "#creates the arrays for each category\n",
    "\n",
    "fname = encode_function(sample1)\n",
    "lname = encode_function(sample2)\n",
    "dob = encode_function(sample3)\n",
    "\n",
    "#creating the training data where xtrain is the 2d array of each category\n",
    "#and ytrain is supposed to be either 0/1 but it's midnight and I am going to stop here\n",
    "\n",
    "xtrain = [fname,lname,dob]\n",
    "ytrain = encode_function(y_sample)"
   ]
  },
  {
   "cell_type": "code",
   "execution_count": null,
   "metadata": {
    "collapsed": true
   },
   "outputs": [],
   "source": []
  }
 ],
 "metadata": {
  "kernelspec": {
   "display_name": "Python 3",
   "language": "python",
   "name": "python3"
  },
  "language_info": {
   "codemirror_mode": {
    "name": "ipython",
    "version": 3
   },
   "file_extension": ".py",
   "mimetype": "text/x-python",
   "name": "python",
   "nbconvert_exporter": "python",
   "pygments_lexer": "ipython3",
   "version": "3.7.1"
  }
 },
 "nbformat": 4,
 "nbformat_minor": 2
}
