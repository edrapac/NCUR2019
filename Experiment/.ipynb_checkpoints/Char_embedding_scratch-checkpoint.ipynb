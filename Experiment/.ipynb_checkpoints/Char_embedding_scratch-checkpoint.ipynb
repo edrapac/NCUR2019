{
 "cells": [
  {
   "cell_type": "code",
   "execution_count": null,
   "metadata": {},
   "outputs": [
    {
     "name": "stderr",
     "output_type": "stream",
     "text": [
      "Using TensorFlow backend.\n"
     ]
    }
   ],
   "source": [
    "import numpy as np\n",
    "from CharVectorizer import CharVectorizer\n",
    "import pandas as pd\n",
    "from pandas import Series, DataFrame\n",
    "\n",
    "import scipy\n",
    "from scipy.stats import spearmanr\n",
    "\n",
    "import matplotlib.pyplot as plt\n",
    "from pylab import rcParams\n",
    "import seaborn as sb\n",
    "\n",
    "import sklearn\n",
    "from sklearn.preprocessing import scale\n",
    "from sklearn.linear_model import LogisticRegression\n",
    "from sklearn import metrics\n",
    "from sklearn import preprocessing\n",
    "from keras.preprocessing import sequence\n",
    "from keras.models import Sequential\n",
    "from keras.layers import Dense, Dropout, Embedding, LSTM, Bidirectional\n",
    "from keras.datasets import imdb\n"
   ]
  },
  {
   "cell_type": "code",
   "execution_count": null,
   "metadata": {},
   "outputs": [],
   "source": [
    "train_data = 'embed_train.csv'\n",
    "test_data = 'embed_test.csv'\n",
    "train_df = pd.read_csv(train_data)\n",
    "test_df = pd.read_csv(test_data)\n",
    "vectorizer = CharVectorizer(\"abcdefghijklmnopqrstuvwxyz1234567890\")\n",
    "train_df.columns  = ['firstname','lastname','dob','password',\n",
    "                'firstname_similarity','lastname_similarity',\n",
    "                'dob_similarity','aggregate_similarity','score']\n",
    "test_df.columns  = ['firstname','lastname','dob','password',\n",
    "                'firstname_similarity','lastname_similarity',\n",
    "                'dob_similarity','aggregate_similarity','score']\n",
    "#train_df.head() #if you want to see the shape of the data, uncomment this line\n"
   ]
  },
  {
   "cell_type": "code",
   "execution_count": null,
   "metadata": {},
   "outputs": [],
   "source": [
    "#create encoding function that we will use as a lambda \n",
    "#in the next following cells\n",
    "def encode(cell_entry,charvectorizer):\n",
    "    maxlen = max(len(cell) for cell in cell_entry)\n",
    "    matrix = charvectorizer.transform(cells,maxlen)\n",
    "    return matrix\n",
    "    \n",
    "    "
   ]
  },
  {
   "cell_type": "code",
   "execution_count": null,
   "metadata": {},
   "outputs": [],
   "source": []
  }
 ],
 "metadata": {
  "kernelspec": {
   "display_name": "Python 3",
   "language": "python",
   "name": "python3"
  },
  "language_info": {
   "codemirror_mode": {
    "name": "ipython",
    "version": 3
   },
   "file_extension": ".py",
   "mimetype": "text/x-python",
   "name": "python",
   "nbconvert_exporter": "python",
   "pygments_lexer": "ipython3",
   "version": "3.7.1"
  }
 },
 "nbformat": 4,
 "nbformat_minor": 2
}
