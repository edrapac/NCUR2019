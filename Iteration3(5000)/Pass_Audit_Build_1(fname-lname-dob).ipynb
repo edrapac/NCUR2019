{
 "cells": [
  {
   "cell_type": "code",
   "execution_count": 121,
   "metadata": {},
   "outputs": [],
   "source": [
    "import numpy as np\n",
    "import pandas as pd\n",
    "from pandas import Series, DataFrame\n",
    "\n",
    "import scipy\n",
    "from scipy.stats import spearmanr\n",
    "\n",
    "import matplotlib.pyplot as plt\n",
    "from pylab import rcParams\n",
    "import seaborn as sb\n",
    "\n",
    "import sklearn\n",
    "from sklearn.preprocessing import scale\n",
    "from sklearn.linear_model import LogisticRegression\n",
    "from sklearn import metrics\n",
    "from sklearn import preprocessing"
   ]
  },
  {
   "cell_type": "code",
   "execution_count": 122,
   "metadata": {},
   "outputs": [
    {
     "data": {
      "text/html": [
       "<div>\n",
       "<style scoped>\n",
       "    .dataframe tbody tr th:only-of-type {\n",
       "        vertical-align: middle;\n",
       "    }\n",
       "\n",
       "    .dataframe tbody tr th {\n",
       "        vertical-align: top;\n",
       "    }\n",
       "\n",
       "    .dataframe thead th {\n",
       "        text-align: right;\n",
       "    }\n",
       "</style>\n",
       "<table border=\"1\" class=\"dataframe\">\n",
       "  <thead>\n",
       "    <tr style=\"text-align: right;\">\n",
       "      <th></th>\n",
       "      <th>maciek2552</th>\n",
       "      <th>maciek2552.1</th>\n",
       "      <th>5/5/1991</th>\n",
       "      <th>maciek2552.2</th>\n",
       "      <th>100</th>\n",
       "      <th>100.1</th>\n",
       "      <th>20</th>\n",
       "      <th>73.33333333</th>\n",
       "      <th>0</th>\n",
       "    </tr>\n",
       "  </thead>\n",
       "  <tbody>\n",
       "    <tr>\n",
       "      <th>0</th>\n",
       "      <td>money3</td>\n",
       "      <td>money3</td>\n",
       "      <td>12/31/1969</td>\n",
       "      <td>money3</td>\n",
       "      <td>100.0</td>\n",
       "      <td>100.0</td>\n",
       "      <td>12.500000</td>\n",
       "      <td>70.833333</td>\n",
       "      <td>0</td>\n",
       "    </tr>\n",
       "    <tr>\n",
       "      <th>1</th>\n",
       "      <td>money6</td>\n",
       "      <td>money6</td>\n",
       "      <td>2/21/1986</td>\n",
       "      <td>money6</td>\n",
       "      <td>100.0</td>\n",
       "      <td>100.0</td>\n",
       "      <td>12.500000</td>\n",
       "      <td>70.833333</td>\n",
       "      <td>0</td>\n",
       "    </tr>\n",
       "    <tr>\n",
       "      <th>2</th>\n",
       "      <td>money7</td>\n",
       "      <td>money7</td>\n",
       "      <td>2/24/1957</td>\n",
       "      <td>money7</td>\n",
       "      <td>100.0</td>\n",
       "      <td>100.0</td>\n",
       "      <td>12.500000</td>\n",
       "      <td>70.833333</td>\n",
       "      <td>0</td>\n",
       "    </tr>\n",
       "    <tr>\n",
       "      <th>3</th>\n",
       "      <td>wwide2008</td>\n",
       "      <td>wwide2008</td>\n",
       "      <td>1/1/1983</td>\n",
       "      <td>wwide2008</td>\n",
       "      <td>100.0</td>\n",
       "      <td>100.0</td>\n",
       "      <td>10.526316</td>\n",
       "      <td>70.175439</td>\n",
       "      <td>0</td>\n",
       "    </tr>\n",
       "    <tr>\n",
       "      <th>4</th>\n",
       "      <td>jmamian</td>\n",
       "      <td>jmamian</td>\n",
       "      <td>2/26/1981</td>\n",
       "      <td>jmamian</td>\n",
       "      <td>100.0</td>\n",
       "      <td>100.0</td>\n",
       "      <td>0.000000</td>\n",
       "      <td>66.666667</td>\n",
       "      <td>0</td>\n",
       "    </tr>\n",
       "  </tbody>\n",
       "</table>\n",
       "</div>"
      ],
      "text/plain": [
       "  maciek2552 maciek2552.1    5/5/1991 maciek2552.2    100  100.1         20  \\\n",
       "0     money3       money3  12/31/1969       money3  100.0  100.0  12.500000   \n",
       "1     money6       money6   2/21/1986       money6  100.0  100.0  12.500000   \n",
       "2     money7       money7   2/24/1957       money7  100.0  100.0  12.500000   \n",
       "3  wwide2008    wwide2008    1/1/1983    wwide2008  100.0  100.0  10.526316   \n",
       "4    jmamian      jmamian   2/26/1981      jmamian  100.0  100.0   0.000000   \n",
       "\n",
       "   73.33333333  0  \n",
       "0    70.833333  0  \n",
       "1    70.833333  0  \n",
       "2    70.833333  0  \n",
       "3    70.175439  0  \n",
       "4    66.666667  0  "
      ]
     },
     "execution_count": 122,
     "metadata": {},
     "output_type": "execute_result"
    }
   ],
   "source": [
    "#data = 'training_fname-lname-dob-similarities_Aggregate_prediction(1-5000).csv' #uses a 30% threshhold\n",
    "data = 'training_fname-lname-dob-similarities_fname_prediction(1-5000).csv' #uses a 40% threshold\n",
    "\n",
    "users = pd.read_csv(data)\n",
    "users.head()"
   ]
  },
  {
   "cell_type": "code",
   "execution_count": 123,
   "metadata": {},
   "outputs": [
    {
     "data": {
      "text/html": [
       "<div>\n",
       "<style scoped>\n",
       "    .dataframe tbody tr th:only-of-type {\n",
       "        vertical-align: middle;\n",
       "    }\n",
       "\n",
       "    .dataframe tbody tr th {\n",
       "        vertical-align: top;\n",
       "    }\n",
       "\n",
       "    .dataframe thead th {\n",
       "        text-align: right;\n",
       "    }\n",
       "</style>\n",
       "<table border=\"1\" class=\"dataframe\">\n",
       "  <thead>\n",
       "    <tr style=\"text-align: right;\">\n",
       "      <th></th>\n",
       "      <th>firstname</th>\n",
       "      <th>lastname</th>\n",
       "      <th>dob</th>\n",
       "      <th>password</th>\n",
       "      <th>firstname_similarity</th>\n",
       "      <th>lastname_similarity</th>\n",
       "      <th>dob_similarity</th>\n",
       "      <th>aggregate_similarity</th>\n",
       "      <th>strength_fname</th>\n",
       "    </tr>\n",
       "  </thead>\n",
       "  <tbody>\n",
       "    <tr>\n",
       "      <th>0</th>\n",
       "      <td>money3</td>\n",
       "      <td>money3</td>\n",
       "      <td>12/31/1969</td>\n",
       "      <td>money3</td>\n",
       "      <td>100.0</td>\n",
       "      <td>100.0</td>\n",
       "      <td>12.500000</td>\n",
       "      <td>70.833333</td>\n",
       "      <td>0</td>\n",
       "    </tr>\n",
       "    <tr>\n",
       "      <th>1</th>\n",
       "      <td>money6</td>\n",
       "      <td>money6</td>\n",
       "      <td>2/21/1986</td>\n",
       "      <td>money6</td>\n",
       "      <td>100.0</td>\n",
       "      <td>100.0</td>\n",
       "      <td>12.500000</td>\n",
       "      <td>70.833333</td>\n",
       "      <td>0</td>\n",
       "    </tr>\n",
       "    <tr>\n",
       "      <th>2</th>\n",
       "      <td>money7</td>\n",
       "      <td>money7</td>\n",
       "      <td>2/24/1957</td>\n",
       "      <td>money7</td>\n",
       "      <td>100.0</td>\n",
       "      <td>100.0</td>\n",
       "      <td>12.500000</td>\n",
       "      <td>70.833333</td>\n",
       "      <td>0</td>\n",
       "    </tr>\n",
       "    <tr>\n",
       "      <th>3</th>\n",
       "      <td>wwide2008</td>\n",
       "      <td>wwide2008</td>\n",
       "      <td>1/1/1983</td>\n",
       "      <td>wwide2008</td>\n",
       "      <td>100.0</td>\n",
       "      <td>100.0</td>\n",
       "      <td>10.526316</td>\n",
       "      <td>70.175439</td>\n",
       "      <td>0</td>\n",
       "    </tr>\n",
       "    <tr>\n",
       "      <th>4</th>\n",
       "      <td>jmamian</td>\n",
       "      <td>jmamian</td>\n",
       "      <td>2/26/1981</td>\n",
       "      <td>jmamian</td>\n",
       "      <td>100.0</td>\n",
       "      <td>100.0</td>\n",
       "      <td>0.000000</td>\n",
       "      <td>66.666667</td>\n",
       "      <td>0</td>\n",
       "    </tr>\n",
       "  </tbody>\n",
       "</table>\n",
       "</div>"
      ],
      "text/plain": [
       "   firstname   lastname         dob   password  firstname_similarity  \\\n",
       "0     money3     money3  12/31/1969     money3                 100.0   \n",
       "1     money6     money6   2/21/1986     money6                 100.0   \n",
       "2     money7     money7   2/24/1957     money7                 100.0   \n",
       "3  wwide2008  wwide2008    1/1/1983  wwide2008                 100.0   \n",
       "4    jmamian    jmamian   2/26/1981    jmamian                 100.0   \n",
       "\n",
       "   lastname_similarity  dob_similarity  aggregate_similarity  strength_fname  \n",
       "0                100.0       12.500000             70.833333               0  \n",
       "1                100.0       12.500000             70.833333               0  \n",
       "2                100.0       12.500000             70.833333               0  \n",
       "3                100.0       10.526316             70.175439               0  \n",
       "4                100.0        0.000000             66.666667               0  "
      ]
     },
     "execution_count": 123,
     "metadata": {},
     "output_type": "execute_result"
    }
   ],
   "source": [
    "users.columns = ['firstname','lastname','dob','password',\n",
    "                'firstname_similarity','lastname_similarity',\n",
    "                'dob_similarity','aggregate_similarity',\n",
    "                'strength_fname']\n",
    "users.head()\n"
   ]
  },
  {
   "cell_type": "code",
   "execution_count": 124,
   "metadata": {},
   "outputs": [
    {
     "name": "stderr",
     "output_type": "stream",
     "text": [
      "C:\\Users\\Axiom\\Anaconda3\\lib\\site-packages\\ipykernel_launcher.py:1: DeprecationWarning: \n",
      ".ix is deprecated. Please use\n",
      ".loc for label based indexing or\n",
      ".iloc for positional indexing\n",
      "\n",
      "See the documentation here:\n",
      "http://pandas.pydata.org/pandas-docs/stable/indexing.html#ix-indexer-is-deprecated\n",
      "  \"\"\"Entry point for launching an IPython kernel.\n",
      "C:\\Users\\Axiom\\Anaconda3\\lib\\site-packages\\ipykernel_launcher.py:4: DeprecationWarning: \n",
      ".ix is deprecated. Please use\n",
      ".loc for label based indexing or\n",
      ".iloc for positional indexing\n",
      "\n",
      "See the documentation here:\n",
      "http://pandas.pydata.org/pandas-docs/stable/indexing.html#ix-indexer-is-deprecated\n",
      "  after removing the cwd from sys.path.\n"
     ]
    }
   ],
   "source": [
    "user_data = users.ix[:,(4,7)].values # selects features (independent vars fname,lname,dob,password)\n",
    "user_data_names = ['firstname_similarity',\n",
    "                  'aggregate_similarity'] #names the above features\n",
    "y = users.ix[:,8].values #our target variable (password strength)\n",
    "#Please note that using .ix will throw a deprecation warning, it should still work fine however"
   ]
  },
  {
   "cell_type": "code",
   "execution_count": 125,
   "metadata": {
    "scrolled": false
   },
   "outputs": [
    {
     "data": {
      "text/plain": [
       "firstname               0\n",
       "lastname                0\n",
       "dob                     0\n",
       "password                0\n",
       "firstname_similarity    0\n",
       "lastname_similarity     0\n",
       "dob_similarity          0\n",
       "aggregate_similarity    0\n",
       "strength_fname          0\n",
       "dtype: int64"
      ]
     },
     "execution_count": 125,
     "metadata": {},
     "output_type": "execute_result"
    }
   ],
   "source": [
    "users.isnull().sum() #just checks to make sure there is no null vals\n",
    "#should return all 0's\n"
   ]
  },
  {
   "cell_type": "code",
   "execution_count": 126,
   "metadata": {},
   "outputs": [
    {
     "name": "stdout",
     "output_type": "stream",
     "text": [
      "<class 'pandas.core.frame.DataFrame'>\n",
      "RangeIndex: 4999 entries, 0 to 4998\n",
      "Data columns (total 9 columns):\n",
      "firstname               4999 non-null object\n",
      "lastname                4999 non-null object\n",
      "dob                     4999 non-null object\n",
      "password                4999 non-null object\n",
      "firstname_similarity    4999 non-null float64\n",
      "lastname_similarity     4999 non-null float64\n",
      "dob_similarity          4999 non-null float64\n",
      "aggregate_similarity    4999 non-null float64\n",
      "strength_fname          4999 non-null int64\n",
      "dtypes: float64(4), int64(1), object(4)\n",
      "memory usage: 351.6+ KB\n"
     ]
    }
   ],
   "source": [
    "users.info()"
   ]
  },
  {
   "cell_type": "code",
   "execution_count": 127,
   "metadata": {},
   "outputs": [
    {
     "data": {
      "text/plain": [
       "<matplotlib.axes._subplots.AxesSubplot at 0x2009318df60>"
      ]
     },
     "execution_count": 127,
     "metadata": {},
     "output_type": "execute_result"
    },
    {
     "data": {
      "image/png": "[encoded data removed]",
      "text/plain": [
       "<Figure size 432x288 with 1 Axes>"
      ]
     },
     "metadata": {
      "needs_background": "light"
     },
     "output_type": "display_data"
    }
   ],
   "source": [
    "sb.countplot(x='strength_fname',data=users,palette='hls') \n",
    "#check distribution of the data. 0's are bad 1's are good "
   ]
  },
  {
   "cell_type": "code",
   "execution_count": 128,
   "metadata": {},
   "outputs": [],
   "source": [
    "X = scale(user_data) #scales data so all attributes are of same scale \n",
    "#throws out data that is of magnitudes greater than the other data in the set \n",
    "#essentially removes outliers\n",
    "\n",
    "#encoded = lab_enc.fit_transform(y) \n",
    "\n",
    "# the above is needd because for whatever reason the 1's and 0's\n",
    "# of the training score are being interpreted as floats"
   ]
  },
  {
   "cell_type": "code",
   "execution_count": 129,
   "metadata": {},
   "outputs": [
    {
     "name": "stderr",
     "output_type": "stream",
     "text": [
      "C:\\Users\\Axiom\\Anaconda3\\lib\\site-packages\\sklearn\\linear_model\\logistic.py:433: FutureWarning: Default solver will be changed to 'lbfgs' in 0.22. Specify a solver to silence this warning.\n",
      "  FutureWarning)\n"
     ]
    },
    {
     "data": {
      "text/plain": [
       "0.4206841368273655"
      ]
     },
     "execution_count": 129,
     "metadata": {},
     "output_type": "execute_result"
    }
   ],
   "source": [
    "LogReg = LogisticRegression()\n",
    "LogReg.fit(user_data,y)\n",
    "LogReg.score(X,y)\n"
   ]
  },
  {
   "cell_type": "code",
   "execution_count": 130,
   "metadata": {},
   "outputs": [
    {
     "name": "stdout",
     "output_type": "stream",
     "text": [
      "              precision    recall  f1-score   support\n",
      "\n",
      "           0       0.00      0.00      0.00      2896\n",
      "           1       0.42      1.00      0.59      2103\n",
      "\n",
      "   micro avg       0.42      0.42      0.42      4999\n",
      "   macro avg       0.21      0.50      0.30      4999\n",
      "weighted avg       0.18      0.42      0.25      4999\n",
      "\n"
     ]
    },
    {
     "name": "stderr",
     "output_type": "stream",
     "text": [
      "C:\\Users\\Axiom\\Anaconda3\\lib\\site-packages\\sklearn\\metrics\\classification.py:1143: UndefinedMetricWarning: Precision and F-score are ill-defined and being set to 0.0 in labels with no predicted samples.\n",
      "  'precision', 'predicted', average, warn_for)\n",
      "C:\\Users\\Axiom\\Anaconda3\\lib\\site-packages\\sklearn\\metrics\\classification.py:1143: UndefinedMetricWarning: Precision and F-score are ill-defined and being set to 0.0 in labels with no predicted samples.\n",
      "  'precision', 'predicted', average, warn_for)\n",
      "C:\\Users\\Axiom\\Anaconda3\\lib\\site-packages\\sklearn\\metrics\\classification.py:1143: UndefinedMetricWarning: Precision and F-score are ill-defined and being set to 0.0 in labels with no predicted samples.\n",
      "  'precision', 'predicted', average, warn_for)\n"
     ]
    }
   ],
   "source": [
    "y_pred = LogReg.predict(X) #given the features, what would this algorithm predict\n",
    "from sklearn.metrics import classification_report # the way to display that classification\n",
    "print(classification_report(y,y_pred)) # will print the actual value (good or bad) next to what the algorithm thinks\n"
   ]
  },
  {
   "cell_type": "code",
   "execution_count": 131,
   "metadata": {},
   "outputs": [
    {
     "data": {
      "text/plain": [
       "0.5"
      ]
     },
     "execution_count": 131,
     "metadata": {},
     "output_type": "execute_result"
    }
   ],
   "source": [
    "from sklearn.metrics import roc_auc_score\n",
    "roc_auc_score(y,y_pred)"
   ]
  },
  {
   "cell_type": "code",
   "execution_count": null,
   "metadata": {},
   "outputs": [],
   "source": []
  }
 ],
 "metadata": {
  "kernelspec": {
   "display_name": "Python 3",
   "language": "python",
   "name": "python3"
  },
  "language_info": {
   "codemirror_mode": {
    "name": "ipython",
    "version": 3
   },
   "file_extension": ".py",
   "mimetype": "text/x-python",
   "name": "python",
   "nbconvert_exporter": "python",
   "pygments_lexer": "ipython3",
   "version": "3.7.1"
  }
 },
 "nbformat": 4,
 "nbformat_minor": 2
}
